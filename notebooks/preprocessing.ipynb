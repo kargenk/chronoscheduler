{
 "cells": [
  {
   "cell_type": "code",
   "execution_count": 279,
   "id": "7b05cb14",
   "metadata": {},
   "outputs": [],
   "source": [
    "import csv\n",
    "import json\n",
    "import re\n",
    "import unicodedata\n",
    "from collections import defaultdict\n",
    "from pathlib import Path\n",
    "from typing import Dict, List, Set, Tuple"
   ]
  },
  {
   "cell_type": "code",
   "execution_count": 176,
   "id": "bae95673",
   "metadata": {},
   "outputs": [],
   "source": [
    "import numpy as np"
   ]
  },
  {
   "cell_type": "code",
   "execution_count": 177,
   "id": "6ce3d89d",
   "metadata": {},
   "outputs": [],
   "source": [
    "import pandas as pd\n",
    "pd.set_option('display.max_rows', 1000)  # 省略されないように表示件数を設定"
   ]
  },
  {
   "cell_type": "code",
   "execution_count": 178,
   "id": "718015f3",
   "metadata": {},
   "outputs": [],
   "source": [
    "def define_main_sets(df: pd.DataFrame) -> Tuple[Set[str], Set[int], Set[str], Set[str], Set[str]]:\n",
    "    \"\"\"\n",
    "    各集合を定義する関数.\n",
    "    \"\"\"\n",
    "    # 授業のリスト\n",
    "    subjects = df['授業コード'].unique().tolist()\n",
    "    \n",
    "    # 時限のリスト\n",
    "    weekdays = ['月', '火', '水', '木', '金', '土']\n",
    "    times = [str(t) for t in range(1, 6)]\n",
    "    periods = [w + t for w in weekdays for t in times]\n",
    "    \n",
    "    # 教室のリスト\n",
    "    facility_path = 'materials/misc/facility.csv'\n",
    "    df_facility = pd.read_csv(facility_path)\n",
    "    rooms = df_facility['施設名'].str.cat(df_facility['講義室'], sep='_').unique().tolist()\n",
    "    \n",
    "    # クラスの集合\n",
    "    # 厳密ではないが、まずはコースをクラスと考える\n",
    "    cs = df['ｺｰｽ'].unique().tolist()\n",
    "    courses = set(sum([pattern.findall(c) for c in cs], []))\n",
    "    \n",
    "    # 担当教員の集合\n",
    "    teachers = set(sum(df['teachers'].tolist(), []))\n",
    "    teachers.discard('師玉')  # おそらく師玉真or師玉礼だと思われるので削除\n",
    "    \n",
    "    return set(subjects), set(periods), set(rooms), courses, teachers"
   ]
  },
  {
   "cell_type": "code",
   "execution_count": 301,
   "id": "959fbe21",
   "metadata": {},
   "outputs": [],
   "source": [
    "def define_main_dicts(df: pd.DataFrame) -> Tuple[Dict[str, List[str]], Dict[str, List[str]], Dict[str, List[str]]]:\n",
    "    \"\"\"\n",
    "    各辞書を定義する関数.\n",
    "    \n",
    "    # 授業の辞書{code: [授業名,科目担当,コマ数,クラス]}\n",
    "    # 科目担当の辞書{teacher: lecture_list}\n",
    "    # クラス授業の辞書{class: lecture_list}\n",
    "    \"\"\"\n",
    "    subject_propaties = defaultdict(list)\n",
    "    teacher_lectures = defaultdict(list)\n",
    "    course_lectures = defaultdict(list)\n",
    "    for code in subjects:\n",
    "        data = df[df['授業コード'] == code]\n",
    "        _, lecture_name, _, _, duration, _courses, _, _, _, _teachers = data.values[0]\n",
    "        # 講義名の英数字は半角にカタカナは全角化、不要な空白は除去\n",
    "        lecture_name = unicodedata.normalize('NFKC', lecture_name.title().strip())\n",
    "        # 授業辞書\n",
    "        subject_propaties[code] = [lecture_name, _teachers, duration, _courses]\n",
    "        # 科目担当辞書\n",
    "        for teacher in _teachers:\n",
    "            teacher_lectures[teacher].append(lecture_name)\n",
    "        # クラス授業辞書\n",
    "        cs = set(sum([pattern.findall(c) for c in _courses], []))\n",
    "        for c in cs:\n",
    "            course_lectures[c].append(lecture_name)\n",
    "    \n",
    "    return subject_propaties, teacher_lectures, course_lectures"
   ]
  },
  {
   "cell_type": "code",
   "execution_count": 6,
   "id": "73ffd692",
   "metadata": {},
   "outputs": [],
   "source": [
    "DATA_DIR = Path('../data/')\n",
    "SAVE_DIR = DATA_DIR.joinpath('csv')\n",
    "files_path = list(DATA_DIR.joinpath('timetable_2023').glob('*.xlsx'))"
   ]
  },
  {
   "cell_type": "code",
   "execution_count": 302,
   "id": "58ce3a0b",
   "metadata": {},
   "outputs": [],
   "source": [
    "dfs = {}\n",
    "pattern = re.compile('[A-Z]')\n",
    "for file_path in files_path:\n",
    "    df = pd.read_excel(file_path, sheet_name=1)                                   # 0番目(X科)は時間割の神エクセル、1番目(Sheet1)がシラバス形式\n",
    "    df['授業コード'] = df['授業コード'].astype(str).apply(lambda x: x.zfill(4))   # 授業コードは左ゼロ埋めで4桁\n",
    "    df['開講期'] = df['開講期'].astype(np.int8)\n",
    "    df['必選'] = df['必選'].astype(str).apply(lambda x: x.replace('○◎', '◎'))  # 「○◎」はよくわからんのでいったん必須(◎)とする\n",
    "    df['コマ数'] = df['コマ数'].astype(np.int8)\n",
    "    df['ｺｰｽ'] = df['ｺｰｽ'].fillna('all').astype(str).apply(lambda x: x.strip())    # \\u3000(全角スペース)が含まれているので除去\n",
    "    df['学年'] = df['学年'].astype(str).apply(lambda x: x.replace('・', '&'))     # 数値と文字列が混在しているので文字列に統一\n",
    "    df['ｸﾗｽ'] = df['ｸﾗｽ'].fillna('all')                                           # 何も記載がないものは全員が対象(all)とする\n",
    "    key = pattern.findall(str(file_path))[0]\n",
    "    dfs[key] = df\n",
    "df = dfs['M']\n",
    "cols = df.columns"
   ]
  },
  {
   "attachments": {},
   "cell_type": "markdown",
   "id": "d2653cd9",
   "metadata": {},
   "source": [
    "# 整形\n",
    "classカラム:「学年_クラス_コース」を一つの組と考える  \n",
    "roomカラム: 「建物名_部屋番号」を一つの部屋と考える  \n",
    "teachersカラム: 講師陣のリスト"
   ]
  },
  {
   "cell_type": "code",
   "execution_count": 303,
   "id": "1f1335df",
   "metadata": {},
   "outputs": [
    {
     "data": {
      "text/html": [
       "<div>\n",
       "<style scoped>\n",
       "    .dataframe tbody tr th:only-of-type {\n",
       "        vertical-align: middle;\n",
       "    }\n",
       "\n",
       "    .dataframe tbody tr th {\n",
       "        vertical-align: top;\n",
       "    }\n",
       "\n",
       "    .dataframe thead th {\n",
       "        text-align: right;\n",
       "    }\n",
       "</style>\n",
       "<table border=\"1\" class=\"dataframe\">\n",
       "  <thead>\n",
       "    <tr style=\"text-align: right;\">\n",
       "      <th></th>\n",
       "      <th>授業コード</th>\n",
       "      <th>授業科目</th>\n",
       "      <th>開講期</th>\n",
       "      <th>必選</th>\n",
       "      <th>コマ数</th>\n",
       "      <th>ｺｰｽ</th>\n",
       "      <th>学年</th>\n",
       "      <th>ｸﾗｽ</th>\n",
       "      <th>教員名</th>\n",
       "      <th>最大人数</th>\n",
       "    </tr>\n",
       "  </thead>\n",
       "  <tbody>\n",
       "    <tr>\n",
       "      <th>0</th>\n",
       "      <td>0001</td>\n",
       "      <td>スタディスキル</td>\n",
       "      <td>1</td>\n",
       "      <td>◎</td>\n",
       "      <td>1</td>\n",
       "      <td>M・F・E・T</td>\n",
       "      <td>1</td>\n",
       "      <td>④-1</td>\n",
       "      <td>高橋明</td>\n",
       "      <td>NaN</td>\n",
       "    </tr>\n",
       "    <tr>\n",
       "      <th>1</th>\n",
       "      <td>0002</td>\n",
       "      <td>スタディスキル</td>\n",
       "      <td>1</td>\n",
       "      <td>◎</td>\n",
       "      <td>1</td>\n",
       "      <td>M・F・E・T</td>\n",
       "      <td>1</td>\n",
       "      <td>④-2</td>\n",
       "      <td>福山</td>\n",
       "      <td>NaN</td>\n",
       "    </tr>\n",
       "    <tr>\n",
       "      <th>2</th>\n",
       "      <td>0003</td>\n",
       "      <td>スタディスキル</td>\n",
       "      <td>1</td>\n",
       "      <td>◎</td>\n",
       "      <td>1</td>\n",
       "      <td>M・F・E・T</td>\n",
       "      <td>1</td>\n",
       "      <td>④-3</td>\n",
       "      <td>福山</td>\n",
       "      <td>NaN</td>\n",
       "    </tr>\n",
       "    <tr>\n",
       "      <th>3</th>\n",
       "      <td>0004</td>\n",
       "      <td>スタディスキル</td>\n",
       "      <td>1</td>\n",
       "      <td>◎</td>\n",
       "      <td>1</td>\n",
       "      <td>M・F・E・T</td>\n",
       "      <td>1</td>\n",
       "      <td>④-4</td>\n",
       "      <td>小林</td>\n",
       "      <td>NaN</td>\n",
       "    </tr>\n",
       "    <tr>\n",
       "      <th>4</th>\n",
       "      <td>0029</td>\n",
       "      <td>（特）スタディスキル</td>\n",
       "      <td>1</td>\n",
       "      <td>◎</td>\n",
       "      <td>1</td>\n",
       "      <td>M・F・E・T</td>\n",
       "      <td>2</td>\n",
       "      <td>all</td>\n",
       "      <td>小田切</td>\n",
       "      <td>NaN</td>\n",
       "    </tr>\n",
       "  </tbody>\n",
       "</table>\n",
       "</div>"
      ],
      "text/plain": [
       "  授業コード        授業科目  開講期 必選  コマ数      ｺｰｽ 学年  ｸﾗｽ  教員名  最大人数\n",
       "0  0001     スタディスキル    1  ◎    1  M・F・E・T  1  ④-1  高橋明   NaN\n",
       "1  0002     スタディスキル    1  ◎    1  M・F・E・T  1  ④-2   福山   NaN\n",
       "2  0003     スタディスキル    1  ◎    1  M・F・E・T  1  ④-3   福山   NaN\n",
       "3  0004     スタディスキル    1  ◎    1  M・F・E・T  1  ④-4   小林   NaN\n",
       "4  0029  （特）スタディスキル    1  ◎    1  M・F・E・T  2  all  小田切   NaN"
      ]
     },
     "execution_count": 303,
     "metadata": {},
     "output_type": "execute_result"
    }
   ],
   "source": [
    "df.head()"
   ]
  },
  {
   "cell_type": "code",
   "execution_count": 304,
   "id": "fb15125f",
   "metadata": {},
   "outputs": [],
   "source": [
    "# # TODO: 0790, 1075, 1096, 8006, 8053, 8057のクラスを決めるのが厄介\n",
    "# id_duplicates = df[df.duplicated(subset=('授業コード'))]['授業コード']\n",
    "# df[df['授業コード'].isin(id_duplicates)]"
   ]
  },
  {
   "cell_type": "code",
   "execution_count": 305,
   "id": "c1bf37dd",
   "metadata": {},
   "outputs": [
    {
     "data": {
      "text/plain": [
       "(429, 10)"
      ]
     },
     "execution_count": 305,
     "metadata": {},
     "output_type": "execute_result"
    }
   ],
   "source": [
    "# 授業コードが重複しているサンプルに対して、コースを統合\n",
    "id_duplicates = df[df.duplicated(subset=('授業コード'))]['授業コード']\n",
    "for id_dup in id_duplicates:\n",
    "    targets = (df['授業コード'] == id_dup)\n",
    "    cs = df[df['授業コード'] == id_dup]['ｺｰｽ'].tolist()\n",
    "    # 重複している講義のコースリストからコース(大文字アルファベット一文字)を抜き出して重複コースを削除\n",
    "    course_set = set(sum([pattern.findall(c) for c in cs], []))\n",
    "    # 先頭のみを指定しようとしてilocでアクセスすると警告なしのChain Indexingで元のdfが変更されないので両方とも変更\n",
    "    df.loc[targets, ['ｺｰｽ']] = '・'.join(list(course_set))\n",
    "\n",
    "# 授業コードが重複しているレコードを削除\n",
    "# 1096: 機械工学プロジェクトⅡと1097: 機械工学プロジェクトⅡは同じカラムがあり、後ろの方にのみ講師情報があるので後ろを残す\n",
    "df.drop_duplicates(subset=('授業コード'), inplace=True, keep='last')\n",
    "df.shape"
   ]
  },
  {
   "cell_type": "code",
   "execution_count": 306,
   "id": "3b660eea",
   "metadata": {},
   "outputs": [
    {
     "data": {
      "text/plain": [
       "(425, 10)"
      ]
     },
     "execution_count": 306,
     "metadata": {},
     "output_type": "execute_result"
    }
   ],
   "source": [
    "# 教員が存在しない講義(例: Academic English for Global leaders系)はわからないのでいったん除去\n",
    "df = df.dropna(subset=['教員名']).copy()\n",
    "df.shape"
   ]
  },
  {
   "cell_type": "code",
   "execution_count": 307,
   "id": "498d2a68",
   "metadata": {},
   "outputs": [],
   "source": [
    "# 正規表現で無駄な記号や空白を除去\n",
    "garbage = re.compile('[!\"#$%&\\'\\\\\\\\()*+-./:;<=>?@[\\\\]^_`{|}~「」〔〕“”〈〉『』【】＆＊・（）＄＃＠。、？！｀＋￥％]')\n",
    "teachers_raw = df['教員名'].tolist()\n",
    "teachers_clean = [re.sub(garbage, ',', s).replace('\\u3000', '').strip(',').strip() for s in teachers_raw]\n",
    "\n",
    "df['teachers'] = [tc.split(',') for tc in teachers_clean]\n",
    "df = df.drop(columns=['教員名'])"
   ]
  },
  {
   "attachments": {},
   "cell_type": "markdown",
   "id": "14056bc7",
   "metadata": {},
   "source": [
    "# 解空間を狭める\n",
    "## 1.開講期ごとに分割"
   ]
  },
  {
   "cell_type": "code",
   "execution_count": 308,
   "id": "a9ff7e4f",
   "metadata": {},
   "outputs": [
    {
     "name": "stdout",
     "output_type": "stream",
     "text": [
      "227\n",
      "196\n",
      "2\n"
     ]
    }
   ],
   "source": [
    "df_first = df[df['開講期'] == 1]\n",
    "df_second = df[df['開講期'] == 2]\n",
    "df_through = df[df['開講期'] == 3]\n",
    "\n",
    "assert len(df_first) + len(df_second) + len(df_through) == len(df)\n",
    "\n",
    "print(len(df_first))\n",
    "print(len(df_second))\n",
    "print(len(df_through))"
   ]
  },
  {
   "attachments": {},
   "cell_type": "markdown",
   "id": "a5145767",
   "metadata": {},
   "source": [
    "## 2-A.学年ごとに分割"
   ]
  },
  {
   "cell_type": "code",
   "execution_count": 309,
   "id": "7d7629ca",
   "metadata": {},
   "outputs": [
    {
     "name": "stdout",
     "output_type": "stream",
     "text": [
      "56\n",
      "107\n",
      "61\n",
      "3\n"
     ]
    }
   ],
   "source": [
    "df_first_1 =  df_first[df_first['学年'].str.contains('1')]\n",
    "df_first_2 =  df_first[df_first['学年'].str.startswith('2')]\n",
    "df_first_3 =  df_first[df_first['学年'].str.startswith('3')]\n",
    "df_first_4 =  df_first[df_first['学年'] == '4']\n",
    "\n",
    "assert len(df_first_1) + len(df_first_2) + len(df_first_3) + len(df_first_4) == len(df_first)\n",
    "\n",
    "print(len(df_first_1))\n",
    "print(len(df_first_2))\n",
    "print(len(df_first_3))\n",
    "print(len(df_first_4))"
   ]
  },
  {
   "attachments": {},
   "cell_type": "markdown",
   "id": "9e7ea0fa",
   "metadata": {},
   "source": [
    "## 2-B.必須と選択に分割"
   ]
  },
  {
   "cell_type": "code",
   "execution_count": 310,
   "id": "4033ce46",
   "metadata": {},
   "outputs": [
    {
     "name": "stdout",
     "output_type": "stream",
     "text": [
      "79\n",
      "20\n",
      "127\n",
      "1\n"
     ]
    }
   ],
   "source": [
    "df_required = df_first[df_first['必選'] == '◎']\n",
    "df_required_select = df_first[df_first['必選'] == '□']\n",
    "df_option = df_first[df_first['必選'] == '○']\n",
    "df_req_sel_re = df_first[df_first['必選'] == '■']\n",
    "\n",
    "assert len(df_required) + len(df_required_select) + len(df_option) + len(df_req_sel_re) == len(df_first)\n",
    "\n",
    "print(len(df_required))\n",
    "print(len(df_required_select))\n",
    "print(len(df_option))\n",
    "print(len(df_req_sel_re))"
   ]
  },
  {
   "attachments": {},
   "cell_type": "markdown",
   "id": "b1e4e0d4",
   "metadata": {},
   "source": [
    "# 集合の定義"
   ]
  },
  {
   "cell_type": "code",
   "execution_count": 311,
   "id": "8eabdbc9",
   "metadata": {},
   "outputs": [
    {
     "name": "stdout",
     "output_type": "stream",
     "text": [
      "subjects: 79, {'9014', '1057', '0002', '1004', '1048', '9052', '0087', '1002', '0003', '1007', '0568', '9045', '9015', '1089', '0088', '8279', '9019', '0070', '1042', '0071', '1073', '0103', '0505', '8053', '9007', '0105', '1044', '8094', '1078', '0566', '1026', '1046', '1024', '9013', '0520', '0474', '0472', '8095', '9017', '0001', '1106', '8139', '1009', '9018', '1013', '1084', '9024', '9051', '1006', '1031', '0090', '9023', '9035', '1047', '0101', '0230', '8275', '1003', '1074', '1008', '9025', '0232', '1030', '9046', '0820', '9001', '1109', '0792', '0029', '0470', '1014', '0490', '1079', '1102', '0004', '9042', '1051', '1023', '0476'}\n",
      "periods: 30, {'水4', '火3', '土2', '木1', '月2', '金1', '火1', '土5', '火5', '月3', '木4', '水3', '土1', '水5', '火4', '水1', '金4', '金5', '土3', '水2', '金3', '月1', '木2', '金2', '木3', '木5', '土4', '火2', '月5', '月4'}\n",
      "subjects: 72, {'K3号館_3102', 'K1号館_1201', 'K1号館_604', 'K2号館_1403', 'K3号館_3301', 'K3号館_3001', 'K1号館_303', 'K3号館_3502', 'K3号館_3308', 'B5号館_2106', 'K2号館_1408', 'K1号館_306', 'K3号館_3306', 'K3号館_3503', 'K2号館_1409', 'K1号館_202', 'K3号館_3405', 'K2号館_1307', 'K3号館_3407', 'K3号館_3604', 'C5号館_5224', 'E2号館_8106', 'E3号館_102', 'K3号館_3402', 'K2号館_1308', 'K2号館_1406', 'K3号館_3103', 'K3号館_3602', 'B5号館_2406', 'K1号館_201', 'B5号館_2105', 'K3号館_3505', 'K3号館_3606', 'K3号館_3603', 'K1号館_B101', 'B5号館_2306', 'K3号館_3101', 'K3号館_3605', 'K4号館_4201', 'K4号館_4202', 'C5号館_5310', 'C5号館_5308', 'E3号館_303', 'K2号館_1407', 'K3号館_3501', 'K3号館_3504', 'K1号館_305', 'B5号館_2305', 'K3号館_3303', 'K3号館_3304', 'K3号館_3506', 'K3号館_3601', 'K3号館_3305', 'K3号館_3302', 'K3号館_3307', 'B5号館_2206', 'K2号館_1405', 'K3号館_3403', 'K3号館_3404', 'K2号館_1401', 'K2号館_1303', 'K4号館_4203', 'K3号館_3406', 'K1号館_B102', 'K2号館_1402', 'K2号館_1404', 'B5号館_2205', 'K3号館_3401', 'B5号館_2405', 'K2号館_1302', 'K2号館_1301', 'K3号館_3408'}\n",
      "courses: 6, {'J', 'T', 'E', 'F', 'M', 'S'}\n",
      "teachers: 65, {'山本明', '大平', '有川', '石塚', '川島', '小田切', '金井', '師玉真', '今井', '松本剛', '門田', '根本', '照井', '土谷', '大木', '広井', '小池', '勝浦', '神谷', '木村', '大場', '高橋明', '中畑', '宮城', '毛利', '吉岡', '高橋一', '中根', '田中', '鈴木芳', '松鹿', '水野', '吉田', '高嶋', '木村南', '福山', '熊谷', '多田', '町田', '林', '佐藤智', '田辺', '小机', '佐藤史', '山本', '小林', '山本崇', 'M科全教員', '端山', '萩野', '若杉', '吉川', '高石', '山本聡', '渡辺', '木村茂', '天谷', '渡部', '沼田', 'ﾑﾙｱｶ', '三浦', '塩﨑', '中尾', '山田陽', '河野'}\n"
     ]
    }
   ],
   "source": [
    "subjects, periods, rooms, courses, teachers = define_main_sets(df_required)\n",
    "\n",
    "print(f'subjects: {len(subjects)}, {subjects}')\n",
    "print(f'periods: {len(periods)}, {periods}')\n",
    "print(f'subjects: {len(rooms)}, {rooms}')\n",
    "print(f'courses: {len(courses)}, {courses}')\n",
    "print(f'teachers: {len(teachers)}, {teachers}')"
   ]
  },
  {
   "attachments": {},
   "cell_type": "markdown",
   "id": "335789f1",
   "metadata": {},
   "source": [
    "# 辞書の定義"
   ]
  },
  {
   "cell_type": "code",
   "execution_count": 312,
   "id": "44c81b18",
   "metadata": {},
   "outputs": [
    {
     "name": "stdout",
     "output_type": "stream",
     "text": [
      "['スタディスキル', ['高橋明'], 1, 'M・F・E・T']\n",
      "['スタディスキル']\n",
      "['制御工学', 'スタディスキル', '流体力学', '材料力学II', 'スタディスキル', '流れ学I', '現代社会講座', '材料工学', '現代社会講座', '機械設計法I', '日本国憲法', '英会話I', '線形代数学I-B', '日本国憲法', '材料工学', '機械系数学', '機械製図基礎', '機械工学概論', '機械力学I', '英会話II', 'スタディスキル', '熱力学I', '創造設計ユニットI', '生産加工学', 'プログラミング基礎', '機械工学概論', '日本国憲法', '健康・スポーツ科学実習I', '材料力学II', '機械設計法I', '流れ学I', '健康・スポーツ科学実習I', 'プログラミング基礎', 'キャリア設計', '情報リテラシー', '(特)スタディスキル', '熱力学I', '科学技術英語I', '機械製図基礎', 'スタディスキル', '機械応用実験', '機械力学I']\n"
     ]
    }
   ],
   "source": [
    "subject_propaties, teacher_lectures, course_lectures = define_main_dicts(df_required)\n",
    "\n",
    "print(subject_propaties['0001'])\n",
    "print(teacher_lectures['高橋明'])  # TODO: 講義は別なので倫理学の名前の扱いをどうするか\n",
    "print(course_lectures['M'])"
   ]
  },
  {
   "attachments": {},
   "cell_type": "markdown",
   "id": "a6fa8476",
   "metadata": {},
   "source": [
    "# 制約の定義"
   ]
  },
  {
   "cell_type": "code",
   "execution_count": 313,
   "id": "1409d57e",
   "metadata": {},
   "outputs": [
    {
     "data": {
      "text/plain": [
       "108"
      ]
     },
     "execution_count": 313,
     "metadata": {},
     "output_type": "execute_result"
    }
   ],
   "source": [
    "# 教室のキャパ行列\n",
    "facility_path = 'materials/misc/facility.csv'\n",
    "df_facility = pd.read_csv(facility_path)\n",
    "df_facility['施設名'] = df_facility['施設名'].str.cat(df_facility['講義室'], sep='_').unique().tolist()\n",
    "room_capacity = dict(zip(df_facility['施設名'], df_facility['最大席数']))\n",
    "room_capacity['K1号館_B101']"
   ]
  },
  {
   "attachments": {},
   "cell_type": "markdown",
   "id": "d0c5c0ed",
   "metadata": {},
   "source": [
    "## sr_map: 授業sが教室rで利用可能かを表す01行列"
   ]
  },
  {
   "cell_type": "code",
   "execution_count": 314,
   "id": "87369c3c",
   "metadata": {},
   "outputs": [
    {
     "data": {
      "text/html": [
       "<div>\n",
       "<style scoped>\n",
       "    .dataframe tbody tr th:only-of-type {\n",
       "        vertical-align: middle;\n",
       "    }\n",
       "\n",
       "    .dataframe tbody tr th {\n",
       "        vertical-align: top;\n",
       "    }\n",
       "\n",
       "    .dataframe thead th {\n",
       "        text-align: right;\n",
       "    }\n",
       "</style>\n",
       "<table border=\"1\" class=\"dataframe\">\n",
       "  <thead>\n",
       "    <tr style=\"text-align: right;\">\n",
       "      <th></th>\n",
       "      <th>授業コード</th>\n",
       "      <th>授業科目</th>\n",
       "      <th>開講期</th>\n",
       "      <th>必選</th>\n",
       "      <th>コマ数</th>\n",
       "      <th>ｺｰｽ</th>\n",
       "      <th>学年</th>\n",
       "      <th>ｸﾗｽ</th>\n",
       "      <th>最大人数</th>\n",
       "      <th>teachers</th>\n",
       "    </tr>\n",
       "  </thead>\n",
       "  <tbody>\n",
       "    <tr>\n",
       "      <th>0</th>\n",
       "      <td>0001</td>\n",
       "      <td>スタディスキル</td>\n",
       "      <td>1</td>\n",
       "      <td>◎</td>\n",
       "      <td>1</td>\n",
       "      <td>M・F・E・T</td>\n",
       "      <td>1</td>\n",
       "      <td>④-1</td>\n",
       "      <td>45.0</td>\n",
       "      <td>[高橋明]</td>\n",
       "    </tr>\n",
       "    <tr>\n",
       "      <th>1</th>\n",
       "      <td>0002</td>\n",
       "      <td>スタディスキル</td>\n",
       "      <td>1</td>\n",
       "      <td>◎</td>\n",
       "      <td>1</td>\n",
       "      <td>M・F・E・T</td>\n",
       "      <td>1</td>\n",
       "      <td>④-2</td>\n",
       "      <td>45.0</td>\n",
       "      <td>[福山]</td>\n",
       "    </tr>\n",
       "    <tr>\n",
       "      <th>2</th>\n",
       "      <td>0003</td>\n",
       "      <td>スタディスキル</td>\n",
       "      <td>1</td>\n",
       "      <td>◎</td>\n",
       "      <td>1</td>\n",
       "      <td>M・F・E・T</td>\n",
       "      <td>1</td>\n",
       "      <td>④-3</td>\n",
       "      <td>45.0</td>\n",
       "      <td>[福山]</td>\n",
       "    </tr>\n",
       "    <tr>\n",
       "      <th>3</th>\n",
       "      <td>0004</td>\n",
       "      <td>スタディスキル</td>\n",
       "      <td>1</td>\n",
       "      <td>◎</td>\n",
       "      <td>1</td>\n",
       "      <td>M・F・E・T</td>\n",
       "      <td>1</td>\n",
       "      <td>④-4</td>\n",
       "      <td>45.0</td>\n",
       "      <td>[小林]</td>\n",
       "    </tr>\n",
       "    <tr>\n",
       "      <th>4</th>\n",
       "      <td>0029</td>\n",
       "      <td>（特）スタディスキル</td>\n",
       "      <td>1</td>\n",
       "      <td>◎</td>\n",
       "      <td>1</td>\n",
       "      <td>M・F・E・T</td>\n",
       "      <td>2</td>\n",
       "      <td>all</td>\n",
       "      <td>180.0</td>\n",
       "      <td>[小田切]</td>\n",
       "    </tr>\n",
       "  </tbody>\n",
       "</table>\n",
       "</div>"
      ],
      "text/plain": [
       "  授業コード        授業科目  開講期 必選  コマ数      ｺｰｽ 学年  ｸﾗｽ   最大人数 teachers\n",
       "0  0001     スタディスキル    1  ◎    1  M・F・E・T  1  ④-1   45.0    [高橋明]\n",
       "1  0002     スタディスキル    1  ◎    1  M・F・E・T  1  ④-2   45.0     [福山]\n",
       "2  0003     スタディスキル    1  ◎    1  M・F・E・T  1  ④-3   45.0     [福山]\n",
       "3  0004     スタディスキル    1  ◎    1  M・F・E・T  1  ④-4   45.0     [小林]\n",
       "4  0029  （特）スタディスキル    1  ◎    1  M・F・E・T  2  all  180.0    [小田切]"
      ]
     },
     "execution_count": 314,
     "metadata": {},
     "output_type": "execute_result"
    }
   ],
   "source": [
    "# 講義数の重複数で定員数を割った値で人数の欠損値を補完\n",
    "## M科: 機械工学コースの入学時の定員は180人(ref. https://op.kait.jp/admission/recruit/)\n",
    "num_max = 180\n",
    "dup_count = df_required.pivot_table(index=['授業科目'], aggfunc='size').to_dict()\n",
    "df_required.loc[:, '最大人数'] = df_required.apply(lambda df: num_max / dup_count[df['授業科目']]\n",
    "                                        if pd.isnull(df['最大人数']) else df['最大人数'], axis=1)\n",
    "df_required.head()"
   ]
  },
  {
   "cell_type": "code",
   "execution_count": 315,
   "id": "6d1ab059",
   "metadata": {},
   "outputs": [],
   "source": [
    "num_subjects = len(df_required)\n",
    "num_rooms = len(df_facility)\n",
    "sr_map = defaultdict(lambda: np.zeros(num_rooms, dtype=np.int8))\n",
    "\n",
    "# 行が授業、列が部屋の01行列を作成\n",
    "room_cap = df_facility['最大席数'].values.astype(int)\n",
    "sr_mat = np.tile(room_cap, (num_subjects, 1))\n",
    "sr_mat = (df_required['最大人数'].values <= sr_mat.T).T.astype(np.int8)  # ブロードキャストするため、増やす次元を先頭にしてから再度戻す\n",
    "assert sr_mat.shape == (num_subjects, num_rooms)\n",
    "\n",
    "# 授業コードをkey, その部屋群が使用可(1) or 不可(0)をvalueとする辞書\n",
    "for i, subject in enumerate(df_required['授業コード']):\n",
    "    sr_map[subject] = sr_mat[i]"
   ]
  },
  {
   "attachments": {},
   "cell_type": "markdown",
   "id": "ee323948",
   "metadata": {},
   "source": [
    "## pr_map: 時限pに教室rが利用可能かを表す01行列"
   ]
  },
  {
   "cell_type": "code",
   "execution_count": 316,
   "id": "56edae98",
   "metadata": {},
   "outputs": [],
   "source": [
    "pr_map = defaultdict(lambda: np.ones(num_rooms, dtype=np.int8))\n",
    "for p in periods:\n",
    "    pr_map[p] = np.ones(num_rooms, dtype=np.int8)"
   ]
  },
  {
   "attachments": {},
   "cell_type": "markdown",
   "id": "c8a6ec3d",
   "metadata": {},
   "source": [
    "## tp_map: 教員tが時限pに授業可能かを表す01行列"
   ]
  },
  {
   "cell_type": "code",
   "execution_count": 317,
   "id": "6ef9e862",
   "metadata": {},
   "outputs": [],
   "source": [
    "num_periods = len(periods)\n",
    "tp_map = defaultdict(lambda: np.ones(num_periods, dtype=np.int8))\n",
    "for t in teachers:\n",
    "    tp_map[t] = np.ones(num_periods, dtype=np.int8)"
   ]
  },
  {
   "attachments": {},
   "cell_type": "markdown",
   "id": "1e623619",
   "metadata": {},
   "source": [
    "## sp_map: 授業sが時限pに実施可能かを表す01行列"
   ]
  },
  {
   "cell_type": "code",
   "execution_count": 318,
   "id": "ea3674b4",
   "metadata": {},
   "outputs": [],
   "source": [
    "sp_map = defaultdict(lambda: np.ones(num_periods, dtype=np.int8))\n",
    "for s in subjects:\n",
    "    sp_map[s] = np.ones(num_periods, dtype=np.int8)"
   ]
  },
  {
   "attachments": {},
   "cell_type": "markdown",
   "id": "5d756708",
   "metadata": {},
   "source": [
    "## cp_map: コースcが時限pに授業可能かを表す01行列"
   ]
  },
  {
   "cell_type": "code",
   "execution_count": 319,
   "id": "5f859771",
   "metadata": {},
   "outputs": [],
   "source": [
    "cp_map = defaultdict(lambda: np.ones(num_periods, dtype=np.int8))\n",
    "for c in courses:\n",
    "    cp_map[c] = np.ones(num_periods, dtype=np.int8)"
   ]
  },
  {
   "attachments": {},
   "cell_type": "markdown",
   "id": "be040343",
   "metadata": {},
   "source": [
    "### 各種ファイルを保存"
   ]
  },
  {
   "cell_type": "code",
   "execution_count": 320,
   "id": "1f614ca5",
   "metadata": {},
   "outputs": [],
   "source": [
    "# 集合をcsvで保存\n",
    "save_dir = SAVE_DIR.joinpath('first', 'constrains')\n",
    "save_dir.mkdir(parents=True, exist_ok=True)\n",
    "\n",
    "file_names = ['subjects', 'periods', 'rooms', 'courses', 'teachers']\n",
    "sets = [subjects, periods, rooms, courses, teachers]\n",
    "for file_name, data in zip(file_names, sets):\n",
    "    save_path = save_dir.parent.joinpath(f'{file_name}.csv')\n",
    "    with open(save_path, 'w', encoding='utf-8', newline='') as f:\n",
    "        writer = csv.writer(f)\n",
    "        writer.writerow(sorted(list(data)))"
   ]
  },
  {
   "cell_type": "code",
   "execution_count": 321,
   "id": "eb7a7857",
   "metadata": {},
   "outputs": [],
   "source": [
    "# 授業情報をjsonで保存\n",
    "dict_names = ['subject_propaties', 'teacher_lectures', 'course_lectures']\n",
    "dicts = [subject_propaties, teacher_lectures, course_lectures]\n",
    "for file_name, data in zip(dict_names, dicts):\n",
    "    save_path = save_dir.parent.joinpath(f'{file_name}.json')\n",
    "    with open(save_path, 'wt', encoding='utf-8') as f:\n",
    "        json.dump(data, f, ensure_ascii=False, indent=2)"
   ]
  },
  {
   "cell_type": "code",
   "execution_count": 333,
   "id": "36142a38",
   "metadata": {},
   "outputs": [],
   "source": [
    "# 制約をjsonで保存\n",
    "file_names = ['sr_map', 'pr_map', 'tp_map', 'sp_map', 'cp_map']\n",
    "constrains = [sr_map, pr_map, tp_map, sp_map, cp_map]\n",
    "for file_name, data in zip(file_names, constrains):\n",
    "    # NumPy配列はjson保存に非対応のためリストに変換\n",
    "    for key, value in data.items():\n",
    "        data[key] = value.tolist()\n",
    "    save_path = save_dir.joinpath(f'{file_name}.json')\n",
    "    with open(save_path, 'w', encoding='utf-8') as f:\n",
    "        json.dump(data, f, ensure_ascii=False, indent=2)"
   ]
  },
  {
   "cell_type": "code",
   "execution_count": null,
   "id": "c4ba4e87",
   "metadata": {},
   "outputs": [],
   "source": []
  }
 ],
 "metadata": {
  "kernelspec": {
   "display_name": "Python 3 (ipykernel)",
   "language": "python",
   "name": "python3"
  },
  "language_info": {
   "codemirror_mode": {
    "name": "ipython",
    "version": 3
   },
   "file_extension": ".py",
   "mimetype": "text/x-python",
   "name": "python",
   "nbconvert_exporter": "python",
   "pygments_lexer": "ipython3",
   "version": "3.11.3"
  }
 },
 "nbformat": 4,
 "nbformat_minor": 5
}
