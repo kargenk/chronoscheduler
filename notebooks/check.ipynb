{
 "cells": [
  {
   "cell_type": "code",
   "execution_count": 22,
   "metadata": {},
   "outputs": [],
   "source": [
    "from pathlib import Path\n",
    "import pandas as pd\n",
    "import matplotlib.pyplot as plt"
   ]
  },
  {
   "cell_type": "code",
   "execution_count": 3,
   "metadata": {},
   "outputs": [],
   "source": [
    "ROOT_DIR = Path().cwd().parent\n",
    "data_dir = ROOT_DIR.joinpath('data', 'toy')"
   ]
  },
  {
   "cell_type": "code",
   "execution_count": 4,
   "metadata": {},
   "outputs": [
    {
     "data": {
      "text/html": [
       "<div>\n",
       "<style scoped>\n",
       "    .dataframe tbody tr th:only-of-type {\n",
       "        vertical-align: middle;\n",
       "    }\n",
       "\n",
       "    .dataframe tbody tr th {\n",
       "        vertical-align: top;\n",
       "    }\n",
       "\n",
       "    .dataframe thead th {\n",
       "        text-align: right;\n",
       "    }\n",
       "</style>\n",
       "<table border=\"1\" class=\"dataframe\">\n",
       "  <thead>\n",
       "    <tr style=\"text-align: right;\">\n",
       "      <th></th>\n",
       "      <th>授業コード</th>\n",
       "      <th>講義名</th>\n",
       "      <th>対象コース</th>\n",
       "      <th>種別</th>\n",
       "      <th>担当教員</th>\n",
       "      <th>教室</th>\n",
       "      <th>時限</th>\n",
       "      <th>コマ数</th>\n",
       "      <th>推定受講人数</th>\n",
       "    </tr>\n",
       "  </thead>\n",
       "  <tbody>\n",
       "    <tr>\n",
       "      <th>0</th>\n",
       "      <td>161</td>\n",
       "      <td>lecture_0161</td>\n",
       "      <td>P,AS,F</td>\n",
       "      <td>選択</td>\n",
       "      <td>矢吹,水瀬,星井</td>\n",
       "      <td>A号館_001</td>\n",
       "      <td>土1</td>\n",
       "      <td>1</td>\n",
       "      <td>50</td>\n",
       "    </tr>\n",
       "    <tr>\n",
       "      <th>1</th>\n",
       "      <td>343</td>\n",
       "      <td>lecture_0343</td>\n",
       "      <td>AS</td>\n",
       "      <td>選択</td>\n",
       "      <td>高槻</td>\n",
       "      <td>A号館_006</td>\n",
       "      <td>月1</td>\n",
       "      <td>1</td>\n",
       "      <td>70</td>\n",
       "    </tr>\n",
       "    <tr>\n",
       "      <th>2</th>\n",
       "      <td>423</td>\n",
       "      <td>lecture_0423</td>\n",
       "      <td>F</td>\n",
       "      <td>選択</td>\n",
       "      <td>星井,横山,春日</td>\n",
       "      <td>A号館_006</td>\n",
       "      <td>月2</td>\n",
       "      <td>1</td>\n",
       "      <td>70</td>\n",
       "    </tr>\n",
       "    <tr>\n",
       "      <th>3</th>\n",
       "      <td>248</td>\n",
       "      <td>lecture_0248</td>\n",
       "      <td>A,AS</td>\n",
       "      <td>選択</td>\n",
       "      <td>田中,高山,北沢,佐竹</td>\n",
       "      <td>A号館_006</td>\n",
       "      <td>月5</td>\n",
       "      <td>1</td>\n",
       "      <td>70</td>\n",
       "    </tr>\n",
       "    <tr>\n",
       "      <th>4</th>\n",
       "      <td>496</td>\n",
       "      <td>lecture_0496</td>\n",
       "      <td>F</td>\n",
       "      <td>選択</td>\n",
       "      <td>菊池</td>\n",
       "      <td>A号館_006</td>\n",
       "      <td>火3</td>\n",
       "      <td>1</td>\n",
       "      <td>70</td>\n",
       "    </tr>\n",
       "  </tbody>\n",
       "</table>\n",
       "</div>"
      ],
      "text/plain": [
       "   授業コード           講義名   対象コース  種別         担当教員       教室  時限  コマ数  推定受講人数\n",
       "0    161  lecture_0161  P,AS,F  選択     矢吹,水瀬,星井  A号館_001  土1    1      50\n",
       "1    343  lecture_0343      AS  選択           高槻  A号館_006  月1    1      70\n",
       "2    423  lecture_0423       F  選択     星井,横山,春日  A号館_006  月2    1      70\n",
       "3    248  lecture_0248    A,AS  選択  田中,高山,北沢,佐竹  A号館_006  月5    1      70\n",
       "4    496  lecture_0496       F  選択           菊池  A号館_006  火3    1      70"
      ]
     },
     "execution_count": 4,
     "metadata": {},
     "output_type": "execute_result"
    }
   ],
   "source": [
    "path = ROOT_DIR.joinpath('outputs', 'toy', 'first', 'result.csv')\n",
    "df = pd.read_csv(path)\n",
    "df.head()"
   ]
  },
  {
   "cell_type": "code",
   "execution_count": 5,
   "metadata": {},
   "outputs": [],
   "source": [
    "# 各集合の作成\n",
    "courses = set(sum([cs.strip().split(',') for cs in df['対象コース'].to_list()], []))\n",
    "categories = set(df['種別'].to_list())\n",
    "teachers = set(sum([ts.strip().split(',') for ts in df['担当教員'].to_list()], []))\n",
    "rooms = pd.read_csv(data_dir.joinpath('rooms.csv'))['教室'].to_list()\n",
    "periods = pd.read_csv(data_dir.joinpath('periods.csv'), header=None).iloc[0].to_list()"
   ]
  },
  {
   "attachments": {},
   "cell_type": "markdown",
   "metadata": {},
   "source": [
    "### 教員/教室の被りチェック"
   ]
  },
  {
   "cell_type": "code",
   "execution_count": 6,
   "metadata": {},
   "outputs": [],
   "source": [
    "check_lists = [teachers, rooms]\n",
    "cols = ['担当教員', '教室']\n",
    "for col, keys in zip(cols, check_lists):\n",
    "    for key in keys:\n",
    "        df_sub = df[df[col].str.contains(key)]\n",
    "        is_duplicated = bool(df_sub.duplicated(subset='時限').sum())\n",
    "        if is_duplicated:\n",
    "            print(f'{key} is duplicated!')\n",
    "        else:\n",
    "            pass"
   ]
  },
  {
   "cell_type": "markdown",
   "metadata": {},
   "source": [
    "### 割合確認"
   ]
  },
  {
   "cell_type": "code",
   "execution_count": 34,
   "metadata": {},
   "outputs": [
    {
     "data": {
      "image/png": "[encoded data removed]",
      "text/plain": [
       "<Figure size 640x480 with 1 Axes>"
      ]
     },
     "metadata": {},
     "output_type": "display_data"
    }
   ],
   "source": [
    "# コース数\n",
    "data = df['対象コース'].map(lambda x: len(x.split(',')))\n",
    "num_bins = len(set(data.to_list()))\n",
    "hist, bins, _ = plt.hist(data, bins=num_bins)\n",
    "\n",
    "for i in range(len(bins) - 1):\n",
    "    bin_start = bins[i]\n",
    "    bin_end = bins[i + 1]\n",
    "    count = hist[i]\n",
    "    \n",
    "    # ビンの中心座標を計算\n",
    "    bin_center = (bin_start + bin_end) / 2\n",
    "    \n",
    "    # 個数をヒストグラムの上に描画する\n",
    "    plt.annotate(f'{count}', xy=(bin_center, count), xytext=(0, 5), textcoords='offset points',\n",
    "                 ha='center', va='bottom')"
   ]
  },
  {
   "cell_type": "code",
   "execution_count": 35,
   "metadata": {},
   "outputs": [
    {
     "data": {
      "image/png": "[encoded data removed]",
      "text/plain": [
       "<Figure size 640x480 with 1 Axes>"
      ]
     },
     "metadata": {},
     "output_type": "display_data"
    }
   ],
   "source": [
    "# 教員数\n",
    "data = df['担当教員'].map(lambda x: len(x.split(',')))\n",
    "num_bins = len(set(data.to_list()))\n",
    "hist, bins, _ = plt.hist(data, bins=num_bins)\n",
    "\n",
    "for i in range(len(bins) - 1):\n",
    "    bin_start = bins[i]\n",
    "    bin_end = bins[i + 1]\n",
    "    count = hist[i]\n",
    "    \n",
    "    # ビンの中心座標を計算\n",
    "    bin_center = (bin_start + bin_end) / 2\n",
    "    \n",
    "    # 個数をヒストグラムの上に描画する\n",
    "    plt.annotate(f'{count}', xy=(bin_center, count), xytext=(0, 5), textcoords='offset points',\n",
    "                 ha='center', va='bottom')"
   ]
  },
  {
   "cell_type": "code",
   "execution_count": 45,
   "metadata": {},
   "outputs": [
    {
     "data": {
      "text/plain": [
       "推定受講人数\n",
       "70     145\n",
       "80      58\n",
       "100     42\n",
       "200     12\n",
       "300      9\n",
       "50       7\n",
       "150      3\n",
       "Name: count, dtype: int64"
      ]
     },
     "execution_count": 45,
     "metadata": {},
     "output_type": "execute_result"
    }
   ],
   "source": [
    "# 推定受講人数\n",
    "data = df['推定受講人数']\n",
    "data.value_counts()"
   ]
  },
  {
   "cell_type": "code",
   "execution_count": null,
   "metadata": {},
   "outputs": [],
   "source": []
  }
 ],
 "metadata": {
  "kernelspec": {
   "display_name": "chronoscheduler-IJUrw7kH-py3.10",
   "language": "python",
   "name": "python3"
  },
  "language_info": {
   "codemirror_mode": {
    "name": "ipython",
    "version": 3
   },
   "file_extension": ".py",
   "mimetype": "text/x-python",
   "name": "python",
   "nbconvert_exporter": "python",
   "pygments_lexer": "ipython3",
   "version": "3.10.11"
  },
  "orig_nbformat": 4
 },
 "nbformat": 4,
 "nbformat_minor": 2
}
