{
 "cells": [
  {
   "cell_type": "code",
   "execution_count": 1,
   "id": "db11e852",
   "metadata": {},
   "outputs": [],
   "source": [
    "import pandas as pd"
   ]
  },
  {
   "attachments": {},
   "cell_type": "markdown",
   "id": "eee1492a",
   "metadata": {},
   "source": [
    "# 生データ"
   ]
  },
  {
   "cell_type": "code",
   "execution_count": 4,
   "id": "40fcfc09",
   "metadata": {},
   "outputs": [
    {
     "name": "stdout",
     "output_type": "stream",
     "text": [
      "★講義室座席数一覧.xls  ★講義室設備一覧.xlsx\r\n"
     ]
    }
   ],
   "source": [
    "!ls ../data/raw"
   ]
  },
  {
   "cell_type": "code",
   "execution_count": 89,
   "id": "b955f2f5",
   "metadata": {},
   "outputs": [
    {
     "data": {
      "text/html": [
       "<div>\n",
       "<style scoped>\n",
       "    .dataframe tbody tr th:only-of-type {\n",
       "        vertical-align: middle;\n",
       "    }\n",
       "\n",
       "    .dataframe tbody tr th {\n",
       "        vertical-align: top;\n",
       "    }\n",
       "\n",
       "    .dataframe thead th {\n",
       "        text-align: right;\n",
       "    }\n",
       "</style>\n",
       "<table border=\"1\" class=\"dataframe\">\n",
       "  <thead>\n",
       "    <tr style=\"text-align: right;\">\n",
       "      <th></th>\n",
       "      <th>講 義 室</th>\n",
       "      <th>Unnamed: 1</th>\n",
       "      <th>最大\\n席数</th>\n",
       "      <th>ｺﾛﾅ前\\n試験対応\\n2020</th>\n",
       "      <th>ｺﾛﾅ対応\\n2021.11～</th>\n",
       "      <th>可動式</th>\n",
       "      <th>Unnamed: 6</th>\n",
       "    </tr>\n",
       "  </thead>\n",
       "  <tbody>\n",
       "    <tr>\n",
       "      <th>0</th>\n",
       "      <td>NaN</td>\n",
       "      <td>NaN</td>\n",
       "      <td>NaN</td>\n",
       "      <td>NaN</td>\n",
       "      <td>NaN</td>\n",
       "      <td>NaN</td>\n",
       "      <td>NaN</td>\n",
       "    </tr>\n",
       "    <tr>\n",
       "      <th>1</th>\n",
       "      <td>K1号館</td>\n",
       "      <td>B101</td>\n",
       "      <td>108</td>\n",
       "      <td>54.0</td>\n",
       "      <td>54.0</td>\n",
       "      <td>NaN</td>\n",
       "      <td>NaN</td>\n",
       "    </tr>\n",
       "    <tr>\n",
       "      <th>2</th>\n",
       "      <td>NaN</td>\n",
       "      <td>NaN</td>\n",
       "      <td>NaN</td>\n",
       "      <td>NaN</td>\n",
       "      <td>NaN</td>\n",
       "      <td>NaN</td>\n",
       "      <td>NaN</td>\n",
       "    </tr>\n",
       "    <tr>\n",
       "      <th>3</th>\n",
       "      <td>NaN</td>\n",
       "      <td>B102</td>\n",
       "      <td>108</td>\n",
       "      <td>54.0</td>\n",
       "      <td>54.0</td>\n",
       "      <td>NaN</td>\n",
       "      <td>NaN</td>\n",
       "    </tr>\n",
       "    <tr>\n",
       "      <th>4</th>\n",
       "      <td>NaN</td>\n",
       "      <td>NaN</td>\n",
       "      <td>NaN</td>\n",
       "      <td>NaN</td>\n",
       "      <td>NaN</td>\n",
       "      <td>NaN</td>\n",
       "      <td>NaN</td>\n",
       "    </tr>\n",
       "    <tr>\n",
       "      <th>5</th>\n",
       "      <td>NaN</td>\n",
       "      <td>201</td>\n",
       "      <td>114</td>\n",
       "      <td>57.0</td>\n",
       "      <td>64.0</td>\n",
       "      <td>NaN</td>\n",
       "      <td>NaN</td>\n",
       "    </tr>\n",
       "    <tr>\n",
       "      <th>6</th>\n",
       "      <td>NaN</td>\n",
       "      <td>NaN</td>\n",
       "      <td>NaN</td>\n",
       "      <td>NaN</td>\n",
       "      <td>NaN</td>\n",
       "      <td>NaN</td>\n",
       "      <td>NaN</td>\n",
       "    </tr>\n",
       "    <tr>\n",
       "      <th>7</th>\n",
       "      <td>NaN</td>\n",
       "      <td>202</td>\n",
       "      <td>183</td>\n",
       "      <td>93.0</td>\n",
       "      <td>112.0</td>\n",
       "      <td>NaN</td>\n",
       "      <td>NaN</td>\n",
       "    </tr>\n",
       "    <tr>\n",
       "      <th>8</th>\n",
       "      <td>NaN</td>\n",
       "      <td>NaN</td>\n",
       "      <td>NaN</td>\n",
       "      <td>NaN</td>\n",
       "      <td>NaN</td>\n",
       "      <td>NaN</td>\n",
       "      <td>NaN</td>\n",
       "    </tr>\n",
       "    <tr>\n",
       "      <th>9</th>\n",
       "      <td>NaN</td>\n",
       "      <td>303</td>\n",
       "      <td>84</td>\n",
       "      <td>42.0</td>\n",
       "      <td>56.0</td>\n",
       "      <td>NaN</td>\n",
       "      <td>NaN</td>\n",
       "    </tr>\n",
       "  </tbody>\n",
       "</table>\n",
       "</div>"
      ],
      "text/plain": [
       "   講 義 室 Unnamed: 1 最大\\n席数  ｺﾛﾅ前\\n試験対応\\n2020  ｺﾛﾅ対応\\n2021.11～  可動式  Unnamed: 6\n",
       "0    NaN        NaN    NaN               NaN              NaN  NaN         NaN\n",
       "1   K1号館       B101    108              54.0             54.0  NaN         NaN\n",
       "2    NaN        NaN    NaN               NaN              NaN  NaN         NaN\n",
       "3    NaN       B102    108              54.0             54.0  NaN         NaN\n",
       "4    NaN        NaN    NaN               NaN              NaN  NaN         NaN\n",
       "5    NaN        201    114              57.0             64.0  NaN         NaN\n",
       "6    NaN        NaN    NaN               NaN              NaN  NaN         NaN\n",
       "7    NaN        202    183              93.0            112.0  NaN         NaN\n",
       "8    NaN        NaN    NaN               NaN              NaN  NaN         NaN\n",
       "9    NaN        303     84              42.0             56.0  NaN         NaN"
      ]
     },
     "execution_count": 89,
     "metadata": {},
     "output_type": "execute_result"
    }
   ],
   "source": [
    "xlsx_path = '../data/materials/★講義室座席数一覧.xls'\n",
    "df = pd.read_excel(xlsx_path, header=1)\n",
    "df.head(10)"
   ]
  },
  {
   "attachments": {},
   "cell_type": "markdown",
   "id": "dea1f9dc",
   "metadata": {},
   "source": [
    "# 整形"
   ]
  },
  {
   "cell_type": "code",
   "execution_count": 90,
   "id": "fd715ba2",
   "metadata": {},
   "outputs": [],
   "source": [
    "# 不要な行の削除\n",
    "df = df.drop(columns='Unnamed: 6')\n",
    "df = df[:-8]\n",
    "df = df.dropna(axis=0, how='all')\n",
    "\n",
    "# 講義室5224のみエクセルシートの席数が二段になっているため、除去\n",
    "df = df.drop(index=134)\n",
    "\n",
    "df = df.reset_index(drop=True)"
   ]
  },
  {
   "cell_type": "code",
   "execution_count": 91,
   "id": "b963d535",
   "metadata": {},
   "outputs": [],
   "source": [
    "# ヘッダーを修正\n",
    "cols = ['施設名', '講義室', '最大席数', '試験時席数', 'コロナ対応席数', '可動式']\n",
    "df.columns = cols"
   ]
  },
  {
   "cell_type": "code",
   "execution_count": 92,
   "id": "adc33534",
   "metadata": {},
   "outputs": [],
   "source": [
    "# 施設名を埋める\n",
    "df['施設名'] = df['施設名'].fillna(method='ffill')"
   ]
  },
  {
   "cell_type": "code",
   "execution_count": 93,
   "id": "5f230808",
   "metadata": {},
   "outputs": [
    {
     "data": {
      "text/html": [
       "<div>\n",
       "<style scoped>\n",
       "    .dataframe tbody tr th:only-of-type {\n",
       "        vertical-align: middle;\n",
       "    }\n",
       "\n",
       "    .dataframe tbody tr th {\n",
       "        vertical-align: top;\n",
       "    }\n",
       "\n",
       "    .dataframe thead th {\n",
       "        text-align: right;\n",
       "    }\n",
       "</style>\n",
       "<table border=\"1\" class=\"dataframe\">\n",
       "  <thead>\n",
       "    <tr style=\"text-align: right;\">\n",
       "      <th></th>\n",
       "      <th>施設名</th>\n",
       "      <th>講義室</th>\n",
       "      <th>最大席数</th>\n",
       "      <th>試験時席数</th>\n",
       "      <th>コロナ対応席数</th>\n",
       "      <th>可動式</th>\n",
       "    </tr>\n",
       "  </thead>\n",
       "  <tbody>\n",
       "    <tr>\n",
       "      <th>0</th>\n",
       "      <td>K1号館</td>\n",
       "      <td>B101</td>\n",
       "      <td>108</td>\n",
       "      <td>54.0</td>\n",
       "      <td>54.0</td>\n",
       "      <td>NaN</td>\n",
       "    </tr>\n",
       "    <tr>\n",
       "      <th>1</th>\n",
       "      <td>K1号館</td>\n",
       "      <td>B102</td>\n",
       "      <td>108</td>\n",
       "      <td>54.0</td>\n",
       "      <td>54.0</td>\n",
       "      <td>NaN</td>\n",
       "    </tr>\n",
       "    <tr>\n",
       "      <th>2</th>\n",
       "      <td>K1号館</td>\n",
       "      <td>201</td>\n",
       "      <td>114</td>\n",
       "      <td>57.0</td>\n",
       "      <td>64.0</td>\n",
       "      <td>NaN</td>\n",
       "    </tr>\n",
       "    <tr>\n",
       "      <th>3</th>\n",
       "      <td>K1号館</td>\n",
       "      <td>202</td>\n",
       "      <td>183</td>\n",
       "      <td>93.0</td>\n",
       "      <td>112.0</td>\n",
       "      <td>NaN</td>\n",
       "    </tr>\n",
       "    <tr>\n",
       "      <th>4</th>\n",
       "      <td>K1号館</td>\n",
       "      <td>303</td>\n",
       "      <td>84</td>\n",
       "      <td>42.0</td>\n",
       "      <td>56.0</td>\n",
       "      <td>NaN</td>\n",
       "    </tr>\n",
       "  </tbody>\n",
       "</table>\n",
       "</div>"
      ],
      "text/plain": [
       "    施設名   講義室 最大席数  試験時席数  コロナ対応席数  可動式\n",
       "0  K1号館  B101  108   54.0     54.0  NaN\n",
       "1  K1号館  B102  108   54.0     54.0  NaN\n",
       "2  K1号館   201  114   57.0     64.0  NaN\n",
       "3  K1号館   202  183   93.0    112.0  NaN\n",
       "4  K1号館   303   84   42.0     56.0  NaN"
      ]
     },
     "execution_count": 93,
     "metadata": {},
     "output_type": "execute_result"
    }
   ],
   "source": [
    "df.head()"
   ]
  },
  {
   "cell_type": "code",
   "execution_count": 94,
   "id": "00d07742",
   "metadata": {},
   "outputs": [
    {
     "data": {
      "text/plain": [
       "施設名         0\n",
       "講義室         0\n",
       "最大席数        0\n",
       "試験時席数       0\n",
       "コロナ対応席数     0\n",
       "可動式        72\n",
       "dtype: int64"
      ]
     },
     "execution_count": 94,
     "metadata": {},
     "output_type": "execute_result"
    }
   ],
   "source": [
    "# 欠損値確認\n",
    "df.isnull().sum()"
   ]
  },
  {
   "cell_type": "code",
   "execution_count": 97,
   "id": "f6b71a70",
   "metadata": {},
   "outputs": [],
   "source": [
    "df.to_csv('../data/csv/facility_raw.csv', index=False)\n",
    "# tab, \\nは保存したcsvを手でいじるほうがコスト少"
   ]
  },
  {
   "cell_type": "code",
   "execution_count": null,
   "id": "b2d92e45",
   "metadata": {},
   "outputs": [],
   "source": []
  },
  {
   "cell_type": "code",
   "execution_count": 98,
   "id": "f35c5c46",
   "metadata": {},
   "outputs": [
    {
     "data": {
      "text/plain": [
       "施設名        0\n",
       "講義室        0\n",
       "最大席数       0\n",
       "試験時席数      0\n",
       "コロナ対応席数    0\n",
       "可動式        0\n",
       "情報コンセント    0\n",
       "ホワイトボード    0\n",
       "dtype: int64"
      ]
     },
     "execution_count": 98,
     "metadata": {},
     "output_type": "execute_result"
    }
   ],
   "source": [
    "_df = pd.read_csv('../data/csv/facility.csv')\n",
    "_df.isnull().sum()"
   ]
  },
  {
   "cell_type": "code",
   "execution_count": 99,
   "id": "93024be5",
   "metadata": {},
   "outputs": [
    {
     "data": {
      "text/html": [
       "<div>\n",
       "<style scoped>\n",
       "    .dataframe tbody tr th:only-of-type {\n",
       "        vertical-align: middle;\n",
       "    }\n",
       "\n",
       "    .dataframe tbody tr th {\n",
       "        vertical-align: top;\n",
       "    }\n",
       "\n",
       "    .dataframe thead th {\n",
       "        text-align: right;\n",
       "    }\n",
       "</style>\n",
       "<table border=\"1\" class=\"dataframe\">\n",
       "  <thead>\n",
       "    <tr style=\"text-align: right;\">\n",
       "      <th></th>\n",
       "      <th>施設名</th>\n",
       "      <th>講義室</th>\n",
       "      <th>最大席数</th>\n",
       "      <th>試験時席数</th>\n",
       "      <th>コロナ対応席数</th>\n",
       "      <th>可動式</th>\n",
       "      <th>情報コンセント</th>\n",
       "      <th>ホワイトボード</th>\n",
       "    </tr>\n",
       "  </thead>\n",
       "  <tbody>\n",
       "    <tr>\n",
       "      <th>0</th>\n",
       "      <td>K1号館</td>\n",
       "      <td>B101</td>\n",
       "      <td>108</td>\n",
       "      <td>54.0</td>\n",
       "      <td>54.0</td>\n",
       "      <td>0</td>\n",
       "      <td>1</td>\n",
       "      <td>1</td>\n",
       "    </tr>\n",
       "    <tr>\n",
       "      <th>1</th>\n",
       "      <td>K1号館</td>\n",
       "      <td>B102</td>\n",
       "      <td>108</td>\n",
       "      <td>54.0</td>\n",
       "      <td>54.0</td>\n",
       "      <td>0</td>\n",
       "      <td>1</td>\n",
       "      <td>1</td>\n",
       "    </tr>\n",
       "    <tr>\n",
       "      <th>2</th>\n",
       "      <td>K1号館</td>\n",
       "      <td>201</td>\n",
       "      <td>114</td>\n",
       "      <td>57.0</td>\n",
       "      <td>64.0</td>\n",
       "      <td>0</td>\n",
       "      <td>1</td>\n",
       "      <td>0</td>\n",
       "    </tr>\n",
       "    <tr>\n",
       "      <th>3</th>\n",
       "      <td>K1号館</td>\n",
       "      <td>202</td>\n",
       "      <td>183</td>\n",
       "      <td>93.0</td>\n",
       "      <td>112.0</td>\n",
       "      <td>0</td>\n",
       "      <td>1</td>\n",
       "      <td>0</td>\n",
       "    </tr>\n",
       "    <tr>\n",
       "      <th>4</th>\n",
       "      <td>K1号館</td>\n",
       "      <td>303</td>\n",
       "      <td>84</td>\n",
       "      <td>42.0</td>\n",
       "      <td>56.0</td>\n",
       "      <td>0</td>\n",
       "      <td>1</td>\n",
       "      <td>0</td>\n",
       "    </tr>\n",
       "  </tbody>\n",
       "</table>\n",
       "</div>"
      ],
      "text/plain": [
       "    施設名   講義室  最大席数  試験時席数  コロナ対応席数  可動式  情報コンセント  ホワイトボード\n",
       "0  K1号館  B101   108   54.0     54.0    0        1        1\n",
       "1  K1号館  B102   108   54.0     54.0    0        1        1\n",
       "2  K1号館   201   114   57.0     64.0    0        1        0\n",
       "3  K1号館   202   183   93.0    112.0    0        1        0\n",
       "4  K1号館   303    84   42.0     56.0    0        1        0"
      ]
     },
     "execution_count": 99,
     "metadata": {},
     "output_type": "execute_result"
    }
   ],
   "source": [
    "_df.head()"
   ]
  },
  {
   "cell_type": "code",
   "execution_count": null,
   "id": "b8409302",
   "metadata": {},
   "outputs": [],
   "source": []
  }
 ],
 "metadata": {
  "kernelspec": {
   "display_name": "Python 3 (ipykernel)",
   "language": "python",
   "name": "python3"
  },
  "language_info": {
   "codemirror_mode": {
    "name": "ipython",
    "version": 3
   },
   "file_extension": ".py",
   "mimetype": "text/x-python",
   "name": "python",
   "nbconvert_exporter": "python",
   "pygments_lexer": "ipython3",
   "version": "3.11.3"
  }
 },
 "nbformat": 4,
 "nbformat_minor": 5
}
